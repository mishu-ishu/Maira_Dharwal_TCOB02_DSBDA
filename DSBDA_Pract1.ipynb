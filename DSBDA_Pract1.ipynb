{
  "nbformat": 4,
  "nbformat_minor": 0,
  "metadata": {
    "colab": {
      "provenance": [],
      "toc_visible": true,
      "authorship_tag": "ABX9TyOjaKlgMpWSon3HEJwDvsmQ",
      "include_colab_link": true
    },
    "kernelspec": {
      "name": "python3",
      "display_name": "Python 3"
    },
    "language_info": {
      "name": "python"
    }
  },
  "cells": [
    {
      "cell_type": "markdown",
      "metadata": {
        "id": "view-in-github",
        "colab_type": "text"
      },
      "source": [
        "<a href=\"https://colab.research.google.com/github/mishu-ishu/Maira_Dharwal_TCOB02_DSBDA/blob/main/DSBDA_Pract1.ipynb\" target=\"_parent\"><img src=\"https://colab.research.google.com/assets/colab-badge.svg\" alt=\"Open In Colab\"/></a>"
      ]
    },
    {
      "cell_type": "code",
      "execution_count": null,
      "metadata": {
        "colab": {
          "base_uri": "https://localhost:8080/"
        },
        "id": "IJ6u6-24suE1",
        "outputId": "725233b2-f7a3-45cb-ef67-2dd89d9d1aca"
      },
      "outputs": [
        {
          "output_type": "stream",
          "name": "stdout",
          "text": [
            "    Sr.\\nno. Roll No               Name of the Student  DM   FDS  OOP   CG  \\\n",
            "0          1  SCOA01                     ALISHA SHEIKH  24  27.0   20   15   \n",
            "1          2  SCOA02         SOHAM JAYYANNTH DESHMUKKH  16   9.0    9   AB   \n",
            "2          3  SCOA03                SHELAR NEHA NILESH  20  23.0   16   15   \n",
            "3          4  SCOA04                       RIYA JAWALE  18  14.0   11    8   \n",
            "4          5  SCOA05             NARHE VARSHA RAOSAHEB  20  24.0   16   24   \n",
            "5          6  SCOA06           BHUTDA MAHESH SHANTILAL  20   9.0   AB    0   \n",
            "6          7  SCOA07              JAGTAP HARISH YUVRAJ  22  18.0    3   16   \n",
            "7          8  SCOA08         DESHPANDE SRUSHTI VINAYAK  24  20.0   19   16   \n",
            "8          9  SCOA09              DARWEY RUDRA GUNWANT  22  12.0  NaN   15   \n",
            "9         10  SCOA10                ERANDE TEJAS DIPAK  24  18.0   11   23   \n",
            "10        11  SCOA11             TRIPATHI VIKALP VIKAS  18  13.0    7   18   \n",
            "11        12  SCOA12  SHAIKH AMAAN AHMED SHAKEEL AHMED  20  23.0   24   21   \n",
            "12        13  SCOA13              MUNGASE SARTHAK ANIL  16  24.0   12   29   \n",
            "13        14  SCOA14                 GOYAL SURAJ MANOJ  16  19.0    9   13   \n",
            "14        15  SCOA15              DHAWNE DEVANG GANESH  18  21.0   12   12   \n",
            "15        16  SCOA16              SHELKE GAURAV GIRISH  20  19.0   12  NaN   \n",
            "16        17  SCOA17           KHATAL NANDINI RAJENDRA  12   NaN    5    7   \n",
            "17        18  SCOA18           BHUJBAL SRUSHTI VINAYAK  24  24.0  NaN   28   \n",
            "18        19  SCOA19       CHINCHANE SANSKRUTI GAJANAN  22  23.0    7   14   \n",
            "19        20  SCOA20                VIDULA VIKAS PATIL  20  24.0   16   26   \n",
            "20        21  SCOA21           BHONGALE OMKAR MADHUKAR  22  17.0   19   10   \n",
            "\n",
            "   DELD  \n",
            "0    16  \n",
            "1    AB  \n",
            "2    15  \n",
            "3    15  \n",
            "4    20  \n",
            "5    AB  \n",
            "6     7  \n",
            "7    23  \n",
            "8     7  \n",
            "9    AB  \n",
            "10   10  \n",
            "11   AB  \n",
            "12   AB  \n",
            "13   10  \n",
            "14   13  \n",
            "15   16  \n",
            "16   AB  \n",
            "17   17  \n",
            "18   14  \n",
            "19   20  \n",
            "20   13  \n"
          ]
        }
      ],
      "source": [
        "import pandas as pd\n",
        "import numpy as np\n",
        "d = pd.read_excel(\"/content/Student-Data.xlsx\")\n",
        "print(d)"
      ]
    },
    {
      "cell_type": "code",
      "source": [
        "s = pd.Series(d[\"DM\"])\n",
        "print(s)\n",
        "print(\"\\n\")"
      ],
      "metadata": {
        "colab": {
          "base_uri": "https://localhost:8080/"
        },
        "id": "BHmMb8A1ZgYU",
        "outputId": "2172f4a2-96b7-467b-e4a4-79e8ba71aa96"
      },
      "execution_count": null,
      "outputs": [
        {
          "output_type": "stream",
          "name": "stdout",
          "text": [
            "0     24\n",
            "1     16\n",
            "2     20\n",
            "3     18\n",
            "4     20\n",
            "5     20\n",
            "6     22\n",
            "7     24\n",
            "8     22\n",
            "9     24\n",
            "10    18\n",
            "11    20\n",
            "12    16\n",
            "13    16\n",
            "14    18\n",
            "15    20\n",
            "16    12\n",
            "17    24\n",
            "18    22\n",
            "19    20\n",
            "20    22\n",
            "Name: DM, dtype: int64\n",
            "\n",
            "\n"
          ]
        }
      ]
    },
    {
      "cell_type": "code",
      "source": [
        "sor = s.head(5).sort_values()\n",
        "print(sor)"
      ],
      "metadata": {
        "colab": {
          "base_uri": "https://localhost:8080/"
        },
        "id": "iLlAfP-pZkrY",
        "outputId": "d858f6f9-0d32-4419-d41c-fee731f4aad2"
      },
      "execution_count": null,
      "outputs": [
        {
          "output_type": "stream",
          "name": "stdout",
          "text": [
            "1    16\n",
            "3    18\n",
            "2    20\n",
            "4    20\n",
            "0    24\n",
            "Name: DM, dtype: int64\n"
          ]
        }
      ]
    },
    {
      "cell_type": "code",
      "source": [
        "c = s.count()\n",
        "print(c)"
      ],
      "metadata": {
        "colab": {
          "base_uri": "https://localhost:8080/"
        },
        "id": "Mk4oAxuSZpzO",
        "outputId": "57cdcb19-c837-4f43-9e26-56395137953d"
      },
      "execution_count": null,
      "outputs": [
        {
          "output_type": "stream",
          "name": "stdout",
          "text": [
            "21\n"
          ]
        }
      ]
    },
    {
      "cell_type": "code",
      "source": [
        "noNAN = d.replace(to_replace = np.nan, value = 2)\n",
        "print(noNAN)"
      ],
      "metadata": {
        "colab": {
          "base_uri": "https://localhost:8080/"
        },
        "id": "ApPgzFzPZuLj",
        "outputId": "2e834fd7-04ca-47ba-bec5-562f3d8b70f2"
      },
      "execution_count": null,
      "outputs": [
        {
          "output_type": "stream",
          "name": "stdout",
          "text": [
            "    Sr.\\nno. Roll No               Name of the Student  DM   FDS OOP  CG DELD\n",
            "0          1  SCOA01                     ALISHA SHEIKH  24  27.0  20  15   16\n",
            "1          2  SCOA02         SOHAM JAYYANNTH DESHMUKKH  16   9.0   9  AB   AB\n",
            "2          3  SCOA03                SHELAR NEHA NILESH  20  23.0  16  15   15\n",
            "3          4  SCOA04                       RIYA JAWALE  18  14.0  11   8   15\n",
            "4          5  SCOA05             NARHE VARSHA RAOSAHEB  20  24.0  16  24   20\n",
            "5          6  SCOA06           BHUTDA MAHESH SHANTILAL  20   9.0  AB   0   AB\n",
            "6          7  SCOA07              JAGTAP HARISH YUVRAJ  22  18.0   3  16    7\n",
            "7          8  SCOA08         DESHPANDE SRUSHTI VINAYAK  24  20.0  19  16   23\n",
            "8          9  SCOA09              DARWEY RUDRA GUNWANT  22  12.0   2  15    7\n",
            "9         10  SCOA10                ERANDE TEJAS DIPAK  24  18.0  11  23   AB\n",
            "10        11  SCOA11             TRIPATHI VIKALP VIKAS  18  13.0   7  18   10\n",
            "11        12  SCOA12  SHAIKH AMAAN AHMED SHAKEEL AHMED  20  23.0  24  21   AB\n",
            "12        13  SCOA13              MUNGASE SARTHAK ANIL  16  24.0  12  29   AB\n",
            "13        14  SCOA14                 GOYAL SURAJ MANOJ  16  19.0   9  13   10\n",
            "14        15  SCOA15              DHAWNE DEVANG GANESH  18  21.0  12  12   13\n",
            "15        16  SCOA16              SHELKE GAURAV GIRISH  20  19.0  12   2   16\n",
            "16        17  SCOA17           KHATAL NANDINI RAJENDRA  12   2.0   5   7   AB\n",
            "17        18  SCOA18           BHUJBAL SRUSHTI VINAYAK  24  24.0   2  28   17\n",
            "18        19  SCOA19       CHINCHANE SANSKRUTI GAJANAN  22  23.0   7  14   14\n",
            "19        20  SCOA20                VIDULA VIKAS PATIL  20  24.0  16  26   20\n",
            "20        21  SCOA21           BHONGALE OMKAR MADHUKAR  22  17.0  19  10   13\n"
          ]
        }
      ]
    }
  ]
}